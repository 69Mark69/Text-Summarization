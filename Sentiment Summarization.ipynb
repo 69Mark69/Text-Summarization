{
 "cells": [
  {
   "cell_type": "code",
   "execution_count": 1,
   "id": "ace721db",
   "metadata": {},
   "outputs": [
    {
     "name": "stderr",
     "output_type": "stream",
     "text": [
      "[nltk_data] Downloading package stopwords to\n",
      "[nltk_data]     C:\\Users\\markp\\AppData\\Roaming\\nltk_data...\n",
      "[nltk_data]   Package stopwords is already up-to-date!\n",
      "[nltk_data] Downloading package wordnet to\n",
      "[nltk_data]     C:\\Users\\markp\\AppData\\Roaming\\nltk_data...\n",
      "[nltk_data]   Package wordnet is already up-to-date!\n"
     ]
    }
   ],
   "source": [
    "from tkinter import *\n",
    "import tkinter\n",
    "from tkinter import filedialog\n",
    "from tkinter.filedialog import askopenfilename\n",
    "import os\n",
    "import nltk\n",
    "nltk.download('stopwords')\n",
    "nltk.download('wordnet')\n",
    "from nltk.corpus import stopwords\n",
    "from nltk.stem import WordNetLemmatizer\n",
    "from string import punctuation\n",
    "import re\n",
    "import torch\n",
    "from transformers import T5Tokenizer, T5ForConditionalGeneration, T5Config\n",
    "from vaderSentiment.vaderSentiment import SentimentIntensityAnalyzer\n"
   ]
  },
  {
   "cell_type": "code",
   "execution_count": 2,
   "id": "44c3e31d",
   "metadata": {},
   "outputs": [],
   "source": [
    "main = tkinter.Tk()\n",
    "main.title(\"Text Summarization using Sentiment Analysis\")\n",
    "main.geometry(\"1300x900\")\n",
    "\n",
    "global model, tokenizer, device, process_text\n",
    "\n",
    "stop_words = set(stopwords.words('english'))\n",
    "lemmatizer = WordNetLemmatizer()\n",
    "global sentiment_model"
   ]
  },
  {
   "cell_type": "code",
   "execution_count": 3,
   "id": "3b6723e1",
   "metadata": {},
   "outputs": [],
   "source": [
    "def cleanText(doc):\n",
    "    tokens = doc.split()\n",
    "    table = str.maketrans('', '', punctuation)\n",
    "    tokens = [w.translate(table) for w in tokens]\n",
    "    tokens = [w for w in tokens if not w in stop_words]\n",
    "    tokens = [word for word in tokens if len(word) > 1]\n",
    "    tokens = [lemmatizer.lemmatize(token) for token in tokens]\n",
    "    tokens = ' '.join(tokens)\n",
    "    tokens = re.sub(r'\\d+', '', tokens)\n",
    "    return tokens"
   ]
  },
  {
   "cell_type": "code",
   "execution_count": 4,
   "id": "8637182e",
   "metadata": {},
   "outputs": [],
   "source": [
    "def loadModel():\n",
    "    global model, tokenizer, device, sentiment_model\n",
    "    sentiment_model = SentimentIntensityAnalyzer()\n",
    "    model = T5ForConditionalGeneration.from_pretrained('t5-small')\n",
    "    tokenizer = T5Tokenizer.from_pretrained('t5-small',model_max_length=512)\n",
    "    device = torch.device('cpu')\n",
    "    pathlabel.config(text=\"Sentiment Summary Model Loaded\")\n",
    "    text.delete('1.0', END)\n",
    "    text.insert(END,\"Model loaded\\n\")\n",
    "\n",
    "def preprocessText():\n",
    "    global process_text\n",
    "    text_data = inputtext.get(1.0, \"end-1c\")\n",
    "    print(text_data)\n",
    "    process_text = cleanText(text_data)\n",
    "    text.delete('1.0', END)\n",
    "    text.insert(END,process_text)\n",
    "    process_text = text_data\n",
    "\n",
    "def sentimentSummary():\n",
    "    global model, tokenizer, device, process_text, sentiment_model\n",
    "    tokenizer = T5Tokenizer.from_pretrained('t5-small',model_max_length=512)\n",
    "    preprocessedText = process_text.strip().replace('\\n','')\n",
    "    process_text = 'summarize: ' + process_text\n",
    "    tokenizedText = tokenizer.encode(process_text, return_tensors='pt', max_length=512, truncation=True).to(device)\n",
    "    summaryIds = model.generate(tokenizedText, min_length=30, max_length=120)\n",
    "    summary = tokenizer.decode(summaryIds[0], skip_special_tokens=True)\n",
    "    sentiment_dict = sentiment_model.polarity_scores(summary)\n",
    "    compound = sentiment_dict['compound']\n",
    "    result = ''\n",
    "    if compound >= 0.05 : \n",
    "        result = 'Positive'   \n",
    "    elif compound <= - 0.05 : \n",
    "        result = 'Negative'   \n",
    "    else : \n",
    "        result = 'Neutral'    \n",
    "    text.delete('1.0', END)\n",
    "    text.insert(END,\"Extracted Summary : \"+summary+\"\\n\\n\")\n",
    "    text.insert(END,\"Predicted Sentiments : \"+str(result))\n"
   ]
  },
  {
   "cell_type": "code",
   "execution_count": 5,
   "id": "5bc7c29d",
   "metadata": {},
   "outputs": [],
   "source": [
    "def clearText():\n",
    "    text.delete('1.0', END)\n",
    "    inputtext.delete('1.0', END)"
   ]
  },
  {
   "cell_type": "code",
   "execution_count": 6,
   "id": "0f1ac9ee",
   "metadata": {},
   "outputs": [
    {
     "name": "stderr",
     "output_type": "stream",
     "text": [
      "You are using the default legacy behaviour of the <class 'transformers.models.t5.tokenization_t5.T5Tokenizer'>. If you see this, DO NOT PANIC! This is expected, and simply means that the `legacy` (previous) behavior will be used so nothing changes for you. If you want to use the new behaviour, set `legacy=False`. This should only be set if you understand what it means, and thouroughly read the reason why this was added as explained in https://github.com/huggingface/transformers/pull/24565\n"
     ]
    },
    {
     "name": "stdout",
     "output_type": "stream",
     "text": [
      "A leader in a data driven world requires the knowledge of both data-related (statistical) methods and of appropriate models to use that data. This Business Analytics class focuses on the latter: it introduces students to analytical frameworks used for decision making though Excel modeling. These include Linear and Integer Optimization, Decision Analysis, and Risk modeling. For each methodology students are first exposed to the basic mechanics, and then apply the methodology to real-world business problems using Excel. \n",
      "\n",
      "Emphasis will be not on the \"how-to\" of Excel, but rather on formulating problems, translating those formulations into useful models, optimizing and/or displaying the models, and interpreting results. The course will prepare managers who are comfortable with translating trade-offs into models, understanding the output of the software, and who are appreciative of quantitative approaches to decision making.\n",
      "\n",
      "Business analytics makes extensive use of data and modeling to drive decision making in organizations. This class focuses on introducing students to analytical frameworks used for decision making to make sense of the data, starting from the basics of Excel and working up to advanced modeling techniques.\n"
     ]
    }
   ],
   "source": [
    "font = ('times', 16, 'bold')\n",
    "title = Label(main, text='Text Summarization using Sentiment Analysis',anchor=W, justify=LEFT)\n",
    "title.config(bg='black', fg='white')  \n",
    "title.config(font=font)           \n",
    "title.config(height=3, width=120)       \n",
    "title.place(x=0,y=5)\n",
    "\n",
    "\n",
    "font1 = ('times', 13, 'bold')\n",
    "\n",
    "loadButton = Button(main, text=\"Generate & Load Summary Sentiment Model\", command=loadModel)\n",
    "loadButton.place(x=50,y=100)\n",
    "loadButton.config(font=font1)  \n",
    "\n",
    "pathlabel = Label(main)\n",
    "pathlabel.config(bg='DarkOrange1', fg='white')  \n",
    "pathlabel.config(font=font1)           \n",
    "pathlabel.place(x=450,y=100)\n",
    "\n",
    "inputlabel = Label(main, text='Input Your Text Below')\n",
    "inputlabel.config(bg='DarkOrange1', fg='white')  \n",
    "inputlabel.config(font=font1)           \n",
    "inputlabel.place(x=420,y=150)\n",
    "\n",
    "inputtext = Text(main,height=10,width=120)\n",
    "scroll=Scrollbar(inputtext)\n",
    "inputtext.configure(yscrollcommand=scroll.set)\n",
    "inputtext.place(x=10,y=200)\n",
    "inputtext.config(font=font1)\n",
    "\n",
    "\n",
    "preprocessButton = Button(main, text=\"Preprocess Text\", command=preprocessText)\n",
    "preprocessButton.place(x=50,y=400)\n",
    "preprocessButton.config(font=font1)\n",
    "\n",
    "annotationButton = Button(main, text=\"Generate Summary using Sentiment\", command=sentimentSummary)\n",
    "annotationButton.place(x=230,y=400)\n",
    "annotationButton.config(font=font1)\n",
    "\n",
    "clearButton = Button(main, text=\"Clear Text\", command=clearText)\n",
    "clearButton.place(x=520,y=400)\n",
    "clearButton.config(font=font1)\n",
    "\n",
    "text=Text(main,height=10,width=120)\n",
    "scroll=Scrollbar(text)\n",
    "text.configure(yscrollcommand=scroll.set)\n",
    "text.place(x=10,y=450)\n",
    "text.config(font=font1)\n",
    "\n",
    "main.config(bg='chocolate1')\n",
    "main.mainloop()"
   ]
  },
  {
   "cell_type": "code",
   "execution_count": null,
   "id": "b2a53cd8",
   "metadata": {},
   "outputs": [],
   "source": []
  },
  {
   "cell_type": "code",
   "execution_count": null,
   "id": "5722b9d0",
   "metadata": {},
   "outputs": [],
   "source": []
  },
  {
   "cell_type": "code",
   "execution_count": null,
   "id": "7982afb3",
   "metadata": {},
   "outputs": [],
   "source": []
  }
 ],
 "metadata": {
  "kernelspec": {
   "display_name": "Python [conda env:myenv]",
   "language": "python",
   "name": "conda-env-myenv-py"
  },
  "language_info": {
   "codemirror_mode": {
    "name": "ipython",
    "version": 3
   },
   "file_extension": ".py",
   "mimetype": "text/x-python",
   "name": "python",
   "nbconvert_exporter": "python",
   "pygments_lexer": "ipython3",
   "version": "3.10.8"
  }
 },
 "nbformat": 4,
 "nbformat_minor": 5
}
